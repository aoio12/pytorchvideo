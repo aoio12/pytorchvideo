{
 "cells": [
  {
   "cell_type": "code",
   "execution_count": 1,
   "source": [
    "import comet_ml\n",
    "import matplotlib.pyplot as plt\n",
    "%matplotlib inline"
   ],
   "outputs": [],
   "metadata": {}
  },
  {
   "cell_type": "code",
   "execution_count": 2,
   "source": [
    "from comet_ml.query import Tag\n",
    "from comet_ml.query import Parameter \n",
    "from comet_ml import API\n"
   ],
   "outputs": [],
   "metadata": {}
  },
  {
   "cell_type": "code",
   "execution_count": 3,
   "source": [
    "api = API(api_key=\"VaG6pF4qhcqKJOux0daNkIz2C\")"
   ],
   "outputs": [],
   "metadata": {}
  },
  {
   "cell_type": "markdown",
   "source": [
    "## project内のパラメータ，メトリック，タグなどを表示"
   ],
   "metadata": {}
  },
  {
   "cell_type": "code",
   "execution_count": 4,
   "source": [
    "params = api.get_query_variables(\"ohtani\", \"jpeg-compression\")\n",
    "print(params)"
   ],
   "outputs": [
    {
     "output_type": "stream",
     "name": "stdout",
     "text": [
      "[Metric('rmse'), Metric('sys.cpu.percent.avg'), Metric('sys.gpu.1.temperature'), Metric('sys.cpu.percent.23'), Parameter('path /mnt/HDD10TB-2/ohtani/dataset/Kinetics400.q_v/50/'), Metric('psnr_score'), Parameter('model'), Metric('sys.ram.used'), Parameter('num_workers'), Parameter('validate_num_frame_1'), Metric('sys.cpu.percent.15'), Parameter('video_num_sabsampled'), Metric('sys.cpu.percent.08'), Tag('ver.21'), Tag('ver.5'), Metadata('runActive'), Parameter('run_arg_4'), Metric('sys.cpu.percent.31'), Metric('sys.cpu.percent.16'), Tag('comp.'), Parameter('frams_per_clip'), Parameter('batch_size'), Parameter('use_compression'), Metric('sys.cpu.percent.24'), Parameter('ssim_score'), Metric('sys.cpu.percent.30'), Metric('sys.cpu.percent.01'), Other('Deleted At'), Metadata('optimizationId'), Metric('a'), Parameter('validate_video_num'), Parameter('run_arg_3'), Metric('sys.gpu.1.power_usage'), Metric('sys.cpu.percent.02'), Metric('sys.gpu.1.total_memory'), Other('throttled_by_stdout'), Parameter('validate_frame_size_1'), Metric('sys.cpu.percent.14'), Metric('ssim_score'), Metric('validate_acc1'), Metric('sys.cpu.percent.36'), Metadata('codeSHA'), Tag('ver.4'), Metric('sys.cpu.percent.21'), Tag('ver.20'), Metric('ssd'), Metric('sys.cpu.percent.25'), Metric('sys.gpu.0.temperature'), Tag('ver.30'), Metric('sys.gpu.3.used_memory'), Metric('sys.gpu.0.gpu_utilization'), Metric('sys.cpu.percent.17'), Parameter('step_between_clips'), Metric('sys.cpu.percent.32'), Parameter('sad_score'), Parameter('validate_num_frame_0'), Metric('sys.cpu.percent.28'), Tag('score_2'), Metric('sys.gpu.3.total_memory'), Tag('ver.9'), Metadata('hasImages'), Metadata('user_name'), Parameter('clip_duration'), Metric('ssim'), Other('throttled'), Metric('ssd_score'), Metric('sys.gpu.2.power_usage'), Metric('validate_acc'), Metadata('hasHtml'), Metric('sys.gpu.3.power_usage'), Metric('mae'), Tag('test'), Tag('ver.50'), Parameter('sb'), Tag('top1,5_ver.10'), Parameter('run_arg_1'), Other('storage_size_bytes'), Metric('sys.cpu.percent.06'), Parameter('compression_rate 100 --use_compression'), Parameter('path_root'), Metric('sys.cpu.percent.10'), Parameter('q_use'), Tag('ver.6'), Metadata('hasNotes'), Metadata('duration'), Metric('sys.cpu.percent.04'), Tag('ver.8'), Parameter('psnr_score'), Parameter('size_size'), Metadata('file_name'), Metric('sys.gpu.1.gpu_utilization'), Metric('sys.ram.total'), Metadata('experimentKey'), Parameter('run_arg_2'), Metric('sys.cpu.percent.34'), Metric('sad_score'), Metric('sys.cpu.percent.19'), Metadata('end_server_timestamp'), Metric('sys.cpu.percent.27'), Metric('sys.gpu.3.temperature'), Metric('sys.gpu.2.used_memory'), Metadata('file_path'), Parameter('num_frames'), Metric('sys.cpu.percent.20'), Tag('ver.3'), Metric('sad'), Parameter('validate_frame_size'), Tag('top1,5_ver.2'), Parameter('path'), Parameter('validate_curr_step'), Metric('sys.cpu.percent.35'), Parameter('validate_batch_idx'), Metric('sys.cpu.percent.12'), Metric('sys.gpu.2.total_memory'), Metric('sys.cpu.percent.03'), Parameter('curr_step'), Tag('score'), Parameter('validate_size'), Metric('sys.gpu.0.total_memory'), Metric('sys.gpu.0.free_memory'), Metric('sys.cpu.percent.13'), Other('throttled_by_api_stdout'), Parameter('en'), Metric('sys.cpu.percent.26'), Parameter('model_name'), Parameter('compression_rate'), Metric('sys.gpu.3.free_memory'), Parameter('q'), Metric('validate_accuracy'), Other('Name'), Tag('ver.100'), Tag('ver.10'), Tag('top1,5_ver.11'), Parameter('ssd_score'), Tag('top1,5'), Tag('ver.7'), Metadata('installed_packages'), Parameter('sampling_rate'), Parameter('validate_frame_size_0'), Metric('sys.cpu.percent.09'), Metric('sys.gpu.2.free_memory'), Metric('sys.gpu.0.power_usage'), Metadata('start_server_timestamp'), Metric('sys.gpu.2.gpu_utilization'), Metric('sys.gpu.0.used_memory'), Metric('sys.cpu.percent.05'), Parameter('compression_strength'), Parameter('compression'), Metric('sys.gpu.1.free_memory'), Tag('ucf'), Metric('sys.cpu.percent.22'), Tag('ver.31'), Metric('sys.cpu.percent.11'), Metric('sys.cpu.percent.29'), Tag('ver.51'), Parameter('g'), Tag('ver.2'), Metric('validate_acc5'), Metric('sys.gpu.3.gpu_utilization'), Metric('psnr'), Metric('sys.cpu.percent.07'), Parameter('dataset'), Parameter('crop_size'), Parameter('run_arg_0'), Metric('sys.gpu.1.used_memory'), Metric('sys.cpu.percent.33'), Metric('sys.cpu.percent.18'), Metric('sys.load.avg'), Metric('sys.gpu.2.temperature')]\n"
     ]
    }
   ],
   "metadata": {}
  },
  {
   "cell_type": "code",
   "execution_count": null,
   "source": [],
   "outputs": [],
   "metadata": {}
  },
  {
   "cell_type": "markdown",
   "source": [
    "## queryで条件を指定して，条件に合うexperimentを取得"
   ],
   "metadata": {}
  },
  {
   "cell_type": "code",
   "execution_count": 5,
   "source": [
    "tagged = Tag(\"score\")\n",
    "compression_rate_params = Parameter('compression_rate')\n",
    "query = ((compression_rate_params == 0) & tagged)\n",
    "experiments = api.query(\"ohtani\", \"jpeg-compression\", query)\n",
    "print(experiments)"
   ],
   "outputs": [
    {
     "output_type": "stream",
     "name": "stdout",
     "text": [
      "[<APIExperiment 'ohtani/jpeg-compression/5d3b8be68d79443faf6a5d92ef63426e'>]\n"
     ]
    }
   ],
   "metadata": {}
  },
  {
   "cell_type": "markdown",
   "source": [
    "## experiment内のパラメータの中身を確認"
   ],
   "metadata": {}
  },
  {
   "cell_type": "code",
   "execution_count": 6,
   "source": [
    "tagged = Tag(\"score\")\n",
    "compression_rate_params = Parameter('compression_rate')\n",
    "query = ((compression_rate_params == 0) & tagged)\n",
    "experiments = api.query(\"ohtani\", \"jpeg-compression\", query)\n",
    "data_path = experiments[0].get_parameters_summary(\"path_root\")\n",
    "print(data_path)"
   ],
   "outputs": [
    {
     "output_type": "stream",
     "name": "stdout",
     "text": [
      "{'name': 'path_root', 'valueMax': '/mnt/dataset/Kinetics400/', 'valueMin': '/mnt/dataset/Kinetics400/', 'valueCurrent': '/mnt/dataset/Kinetics400/', 'timestampMax': 1635481769531, 'timestampMin': 1635481769531, 'timestampCurrent': 1635481769531, 'editable': False}\n"
     ]
    }
   ],
   "metadata": {}
  },
  {
   "cell_type": "code",
   "execution_count": 8,
   "source": [
    "data_path['valueCurrent']"
   ],
   "outputs": [
    {
     "output_type": "execute_result",
     "data": {
      "text/plain": [
       "'/mnt/dataset/Kinetics400/'"
      ]
     },
     "metadata": {},
     "execution_count": 8
    }
   ],
   "metadata": {}
  },
  {
   "cell_type": "markdown",
   "source": [
    "## experiment内のメトリック（psnr）の値を取得"
   ],
   "metadata": {}
  },
  {
   "cell_type": "code",
   "execution_count": 6,
   "source": [
    "tagged = Tag(\"score\")\n",
    "compression_rate_params = Parameter('compression_rate')\n",
    "query = ((compression_rate_params == 0) & tagged)\n",
    "experiments = api.query(\"ohtani\", \"jpeg-compression\", query)\n",
    "print(experiments)"
   ],
   "outputs": [
    {
     "output_type": "stream",
     "name": "stdout",
     "text": [
      "[<APIExperiment 'ohtani/jpeg-compression/5d3b8be68d79443faf6a5d92ef63426e'>]\n"
     ]
    }
   ],
   "metadata": {}
  },
  {
   "cell_type": "code",
   "execution_count": 8,
   "source": [
    "psnr_list = experiments[0].get_metrics(\"psnr\")\n",
    "print(len(psnr_list))"
   ],
   "outputs": [
    {
     "output_type": "stream",
     "name": "stdout",
     "text": [
      "15000\n"
     ]
    }
   ],
   "metadata": {}
  },
  {
   "cell_type": "markdown",
   "source": [
    "多いので先頭の10個だけ表示"
   ],
   "metadata": {}
  },
  {
   "cell_type": "code",
   "execution_count": 9,
   "source": [
    "psnr_list[0:10]"
   ],
   "outputs": [
    {
     "output_type": "execute_result",
     "data": {
      "text/plain": [
       "[{'metricName': 'psnr',\n",
       "  'metricValue': '50.90137587919159',\n",
       "  'timestamp': 1635481796937,\n",
       "  'step': 0,\n",
       "  'epoch': None,\n",
       "  'runContext': None,\n",
       "  'offset': 91},\n",
       " {'metricName': 'psnr',\n",
       "  'metricValue': '50.32128014335132',\n",
       "  'timestamp': 1635481797227,\n",
       "  'step': 1,\n",
       "  'epoch': None,\n",
       "  'runContext': None,\n",
       "  'offset': 97},\n",
       " {'metricName': 'psnr',\n",
       "  'metricValue': '47.146264118031105',\n",
       "  'timestamp': 1635481797526,\n",
       "  'step': 2,\n",
       "  'epoch': None,\n",
       "  'runContext': None,\n",
       "  'offset': 103},\n",
       " {'metricName': 'psnr',\n",
       "  'metricValue': '50.37417537075188',\n",
       "  'timestamp': 1635481797810,\n",
       "  'step': 3,\n",
       "  'epoch': None,\n",
       "  'runContext': None,\n",
       "  'offset': 109},\n",
       " {'metricName': 'psnr',\n",
       "  'metricValue': '51.00902374137341',\n",
       "  'timestamp': 1635481798097,\n",
       "  'step': 4,\n",
       "  'epoch': None,\n",
       "  'runContext': None,\n",
       "  'offset': 115},\n",
       " {'metricName': 'psnr',\n",
       "  'metricValue': '53.04822570034219',\n",
       "  'timestamp': 1635481798397,\n",
       "  'step': 5,\n",
       "  'epoch': None,\n",
       "  'runContext': None,\n",
       "  'offset': 121},\n",
       " {'metricName': 'psnr',\n",
       "  'metricValue': '51.10459116923463',\n",
       "  'timestamp': 1635481799308,\n",
       "  'step': 8,\n",
       "  'epoch': None,\n",
       "  'runContext': None,\n",
       "  'offset': 139},\n",
       " {'metricName': 'psnr',\n",
       "  'metricValue': '50.69433850706308',\n",
       "  'timestamp': 1635481799615,\n",
       "  'step': 9,\n",
       "  'epoch': None,\n",
       "  'runContext': None,\n",
       "  'offset': 145},\n",
       " {'metricName': 'psnr',\n",
       "  'metricValue': '49.41510651739472',\n",
       "  'timestamp': 1635481800008,\n",
       "  'step': 10,\n",
       "  'epoch': None,\n",
       "  'runContext': None,\n",
       "  'offset': 152},\n",
       " {'metricName': 'psnr',\n",
       "  'metricValue': '50.454273656630114',\n",
       "  'timestamp': 1635481800353,\n",
       "  'step': 11,\n",
       "  'epoch': None,\n",
       "  'runContext': None,\n",
       "  'offset': 158}]"
      ]
     },
     "metadata": {},
     "execution_count": 9
    }
   ],
   "metadata": {}
  },
  {
   "cell_type": "code",
   "execution_count": 15,
   "source": [
    "psnr_list[0]"
   ],
   "outputs": [
    {
     "output_type": "execute_result",
     "data": {
      "text/plain": [
       "{'metricName': 'psnr',\n",
       " 'metricValue': '50.90137587919159',\n",
       " 'timestamp': 1635481796937,\n",
       " 'step': 0,\n",
       " 'epoch': None,\n",
       " 'runContext': None,\n",
       " 'offset': 91}"
      ]
     },
     "metadata": {},
     "execution_count": 15
    }
   ],
   "metadata": {}
  },
  {
   "cell_type": "code",
   "execution_count": 11,
   "source": [
    "psnr_score = psnr_list[0].get(\"metricValue\")\n",
    "print(psnr_score)\n",
    "print(type(psnr_score))"
   ],
   "outputs": [
    {
     "output_type": "stream",
     "name": "stdout",
     "text": [
      "50.90137587919159\n",
      "<class 'str'>\n"
     ]
    }
   ],
   "metadata": {}
  },
  {
   "cell_type": "code",
   "execution_count": 13,
   "source": [
    "psnr_score = psnr_list[1].get(\"metricValue\")\n",
    "print(psnr_score)\n",
    "print(type(psnr_score))"
   ],
   "outputs": [
    {
     "output_type": "stream",
     "name": "stdout",
     "text": [
      "50.32128014335132\n",
      "<class 'str'>\n"
     ]
    }
   ],
   "metadata": {}
  },
  {
   "cell_type": "code",
   "execution_count": null,
   "source": [],
   "outputs": [],
   "metadata": {}
  },
  {
   "cell_type": "code",
   "execution_count": null,
   "source": [],
   "outputs": [],
   "metadata": {}
  }
 ],
 "metadata": {
  "interpreter": {
   "hash": "98b0a9b7b4eaaa670588a142fd0a9b87eaafe866f1db4228be72b4211d12040f"
  },
  "kernelspec": {
   "name": "python3",
   "display_name": "Python 3.8.12 64-bit ('conda': virtualenv)"
  },
  "language_info": {
   "codemirror_mode": {
    "name": "ipython",
    "version": 3
   },
   "file_extension": ".py",
   "mimetype": "text/x-python",
   "name": "python",
   "nbconvert_exporter": "python",
   "pygments_lexer": "ipython3",
   "version": "3.8.12"
  },
  "orig_nbformat": 4
 },
 "nbformat": 4,
 "nbformat_minor": 2
}